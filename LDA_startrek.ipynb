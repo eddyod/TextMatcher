{
 "cells": [
  {
   "cell_type": "code",
   "execution_count": 3,
   "metadata": {},
   "outputs": [],
   "source": [
    "import MySQLdb\n",
    "import pandas as pd\n",
    "import gensim\n",
    "from gensim.utils import simple_preprocess\n",
    "from gensim.parsing.preprocessing import STOPWORDS\n",
    "from nltk.stem import WordNetLemmatizer, SnowballStemmer\n",
    "from nltk.stem.porter import *\n",
    "import numpy as np\n",
    "np.random.seed(2018)\n",
    "import nltk"
   ]
  },
  {
   "cell_type": "code",
   "execution_count": null,
   "metadata": {},
   "outputs": [],
   "source": [
    "import itertools\n",
    "from sklearn.feature_extraction.text import TfidfVectorizer\n",
    "from fuzzywuzzy import fuzz"
   ]
  },
  {
   "cell_type": "code",
   "execution_count": 4,
   "metadata": {},
   "outputs": [],
   "source": [
    "CONNECTION = MySQLdb.connect(\"localhost\", \"eodonnell\", \"IrishThunder\", \"equity\")\n",
    "CURSOR = CONNECTION.cursor()\n",
    "GETDATA = \"\"\"select concat(t.abbrv,'-S',e.season,'-E',e.episode_number,' ',e.title) as X, \n",
    "REPLACE(synopsis,'\\n','') as synopsis \n",
    "from episode e \n",
    "inner join tv_show t on e.show_id = t.show_id \n",
    "where synopsis is not null and t.show_id = 1\n",
    "order by t.abbrv,e.season,e.episode_number limit 100000\"\"\"\n"
   ]
  },
  {
   "cell_type": "code",
   "execution_count": 5,
   "metadata": {},
   "outputs": [],
   "source": [
    "CURSOR.execute(GETDATA)\n",
    "rows=CURSOR.fetchall()\n",
    "episodes=[]\n",
    "ids=[]\n",
    "for row in rows:\n",
    "    ids.append(row[0])\n",
    "    episodes.append(row[1])"
   ]
  },
  {
   "cell_type": "code",
   "execution_count": 6,
   "metadata": {},
   "outputs": [],
   "source": [
    "documents = pd.DataFrame(episodes, columns = ['synopsis']) \n",
    "documents['index'] = documents.index\n",
    "documents['episode_len'] = documents['synopsis'].apply(len)"
   ]
  },
  {
   "cell_type": "code",
   "execution_count": 7,
   "metadata": {},
   "outputs": [
    {
     "data": {
      "text/html": [
       "<div>\n",
       "<style scoped>\n",
       "    .dataframe tbody tr th:only-of-type {\n",
       "        vertical-align: middle;\n",
       "    }\n",
       "\n",
       "    .dataframe tbody tr th {\n",
       "        vertical-align: top;\n",
       "    }\n",
       "\n",
       "    .dataframe thead th {\n",
       "        text-align: right;\n",
       "    }\n",
       "</style>\n",
       "<table border=\"1\" class=\"dataframe\">\n",
       "  <thead>\n",
       "    <tr style=\"text-align: right;\">\n",
       "      <th></th>\n",
       "      <th>synopsis</th>\n",
       "      <th>index</th>\n",
       "      <th>episode_len</th>\n",
       "    </tr>\n",
       "  </thead>\n",
       "  <tbody>\n",
       "    <tr>\n",
       "      <td>0</td>\n",
       "      <td>Thirteen years before James T. Kirk takes comm...</td>\n",
       "      <td>0</td>\n",
       "      <td>2969</td>\n",
       "    </tr>\n",
       "    <tr>\n",
       "      <td>1</td>\n",
       "      <td>The U.S.S. Enterprise arrives at planet M-113 ...</td>\n",
       "      <td>1</td>\n",
       "      <td>2492</td>\n",
       "    </tr>\n",
       "    <tr>\n",
       "      <td>2</td>\n",
       "      <td>As Charles Evans, the lone survivor of a crash...</td>\n",
       "      <td>2</td>\n",
       "      <td>1500</td>\n",
       "    </tr>\n",
       "    <tr>\n",
       "      <td>3</td>\n",
       "      <td>Some years before this second pilot, the S.S. ...</td>\n",
       "      <td>3</td>\n",
       "      <td>1994</td>\n",
       "    </tr>\n",
       "    <tr>\n",
       "      <td>4</td>\n",
       "      <td>Spock and Joe Tormolen beam down to planet Psi...</td>\n",
       "      <td>4</td>\n",
       "      <td>1432</td>\n",
       "    </tr>\n",
       "  </tbody>\n",
       "</table>\n",
       "</div>"
      ],
      "text/plain": [
       "                                            synopsis  index  episode_len\n",
       "0  Thirteen years before James T. Kirk takes comm...      0         2969\n",
       "1  The U.S.S. Enterprise arrives at planet M-113 ...      1         2492\n",
       "2  As Charles Evans, the lone survivor of a crash...      2         1500\n",
       "3  Some years before this second pilot, the S.S. ...      3         1994\n",
       "4  Spock and Joe Tormolen beam down to planet Psi...      4         1432"
      ]
     },
     "execution_count": 7,
     "metadata": {},
     "output_type": "execute_result"
    }
   ],
   "source": [
    "documents.head()"
   ]
  },
  {
   "cell_type": "markdown",
   "metadata": {},
   "source": [
    "### Data Preprocessing"
   ]
  },
  {
   "cell_type": "markdown",
   "metadata": {},
   "source": [
    "#### Lemmatize example"
   ]
  },
  {
   "cell_type": "code",
   "execution_count": 40,
   "metadata": {},
   "outputs": [
    {
     "name": "stdout",
     "output_type": "stream",
     "text": [
      "go\n"
     ]
    }
   ],
   "source": [
    "print(WordNetLemmatizer().lemmatize('went', pos='v'))"
   ]
  },
  {
   "cell_type": "markdown",
   "metadata": {},
   "source": [
    "#### Stemmer Example"
   ]
  },
  {
   "cell_type": "code",
   "execution_count": 41,
   "metadata": {},
   "outputs": [],
   "source": [
    "stemmer = SnowballStemmer('english')\n",
    "def lemmatize_stemming(text):\n",
    "    return stemmer.stem(WordNetLemmatizer().lemmatize(text, pos='v'))\n",
    "\n",
    "def preprocess(text):\n",
    "    result = []\n",
    "    for token in gensim.utils.simple_preprocess(text):\n",
    "        if token not in gensim.parsing.preprocessing.STOPWORDS and len(token) > 3:\n",
    "            result.append(lemmatize_stemming(token))\n",
    "    return result"
   ]
  },
  {
   "cell_type": "code",
   "execution_count": 79,
   "metadata": {},
   "outputs": [
    {
     "name": "stdout",
     "output_type": "stream",
     "text": [
      "original document: \n",
      "['Spock', 'and', 'Joe', 'Tormolen', 'beam', 'down', 'to', 'planet', 'Psi', '2000', 'to', 'pick', 'up', 'a', 'research', 'party', 'before', 'the', 'planet', 'disintegrates.', 'They', 'find', 'everyone', 'has', 'died,', 'frozen', 'when', 'life', 'support', 'was', 'turned', 'off.', 'Even', 'stranger,', 'the', 'positions', 'of', 'the', \"researcher's\", 'bodies', 'show', 'they', 'were', 'out', 'of', 'their', 'minds', 'when', 'they', 'perished', 'and', 'some', 'died', 'by', 'suicide.Unknowingly,', 'Tormolen', 'carried', 'what', 'is', 'later', 'termed', 'the', 'Psi', '2000', 'virus,', 'back', 'to', 'the', 'U.S.S.', 'Enterprise', 'and', 'it', 'spreads', 'among', 'the', 'crew', 'at', 'an', 'alarming', 'rate,', 'reaching', 'into', 'their', 'souls', 'and', 'pulling', 'out', 'their', 'deepest', 'desires', 'for', 'public', 'display.', 'The', 'virus', 'is', 'water', 'borne', 'and', 'spread', 'by', 'perspiration', 'in', 'a', 'touch.', 'While', 'trying', 'to', 'stop', 'Tormolen', 'from', 'killing', 'himself,', 'Sulu', 'and', 'Kevin', 'Riley', 'are', 'infected', 'with', 'the', 'virus.', 'The', 'crew', 'begin', 'displaying', 'actions', 'that', 'are', 'humorous', 'exaggerations', 'of', 'their', 'desires,', 'like', 'Sulu', 'threatening', 'the', 'bridge', 'with', 'a', 'fencing', 'foil', 'and', 'Kirk', 'becoming', 'overly', 'romantic', 'toward', 'the', 'crew.', 'Others', 'are', 'more', 'heart-wrenching,', 'like', 'Christine', 'Chapel', 'admitting', 'her', 'love', 'for', 'Spock', 'and', 'the', 'Vulcan', 'weeping', 'uncontrollably.', 'The', 'deadliest', 'result,', 'however,', 'is', 'when', 'Riley', 'declares', 'himself', 'captain', 'of', 'the', 'U.S.S.', 'Enterprise', 'and', 'locks', 'himself', 'in', 'Engineering.', 'Unfortunately,', 'he', 'also', 'locks', 'everyone', 'else', 'out.', 'Once', 'in', 'command', 'of', 'the', \"ship's\", 'engines,', 'Riley', 'shuts', 'them', 'down', 'and', 'the', 'U.S.S.', 'Enterprise', 'is', 'pulled', 'toward', 'Psi', '2000', 'by', 'its', 'erratic', 'gravity.', 'McCoy', 'manages', 'to', 'avoid', 'contracting', 'the', 'virus', 'and', 'finds', 'an', 'antidote', 'which', 'cures', 'the', 'crew.']\n"
     ]
    }
   ],
   "source": [
    "doc_sample = documents[documents['index'] == 4].values[0][0]\n",
    "print('original document: ')\n",
    "words = []\n",
    "for word in doc_sample.split(' '):\n",
    "    words.append(word)\n",
    "print(words)"
   ]
  },
  {
   "cell_type": "code",
   "execution_count": 80,
   "metadata": {},
   "outputs": [
    {
     "name": "stdout",
     "output_type": "stream",
     "text": [
      "\n",
      "\n",
      " tokenized and lemmatized document: \n",
      "['spock', 'tormolen', 'beam', 'planet', 'pick', 'research', 'parti', 'planet', 'disintegr', 'die', 'freez', 'life', 'support', 'turn', 'stranger', 'posit', 'research', 'bodi', 'mind', 'perish', 'die', 'suicid', 'unknow', 'tormolen', 'carri', 'later', 'term', 'virus', 'enterpris', 'spread', 'crew', 'alarm', 'rate', 'reach', 'soul', 'pull', 'deepest', 'desir', 'public', 'display', 'virus', 'water', 'bear', 'spread', 'perspir', 'touch', 'tri', 'stop', 'tormolen', 'kill', 'sulu', 'kevin', 'riley', 'infect', 'virus', 'crew', 'begin', 'display', 'action', 'humor', 'exagger', 'desir', 'like', 'sulu', 'threaten', 'bridg', 'fenc', 'foil', 'kirk', 'over', 'romant', 'crew', 'heart', 'wrench', 'like', 'christin', 'chapel', 'admit', 'love', 'spock', 'vulcan', 'weep', 'uncontrol', 'deadliest', 'result', 'riley', 'declar', 'captain', 'enterpris', 'lock', 'engin', 'unfortun', 'lock', 'command', 'ship', 'engin', 'riley', 'shut', 'enterpris', 'pull', 'errat', 'graviti', 'mccoy', 'manag', 'avoid', 'contract', 'virus', 'find', 'antidot', 'cure', 'crew']\n"
     ]
    }
   ],
   "source": [
    "print('\\n\\n tokenized and lemmatized document: ')\n",
    "print(preprocess(doc_sample))"
   ]
  },
  {
   "cell_type": "code",
   "execution_count": 81,
   "metadata": {},
   "outputs": [],
   "source": [
    "processed_docs = documents['synopsis'].map(preprocess)"
   ]
  },
  {
   "cell_type": "code",
   "execution_count": 82,
   "metadata": {},
   "outputs": [
    {
     "data": {
      "text/plain": [
       "0    [thirteen, year, jam, kirk, take, command, ent...\n",
       "1    [enterpris, arriv, planet, deliv, suppli, robe...\n",
       "2    [charl, evan, lone, survivor, crash, colon, ex...\n",
       "3    [year, second, pilot, valiant, encount, unknow...\n",
       "4    [spock, tormolen, beam, planet, pick, research...\n",
       "5    [orbit, planet, alfa, enterpris, experi, trans...\n",
       "6    [enterpris, pursu, unknown, ship, asteroid, be...\n",
       "7    [enterpris, arriv, orbit, search, exobiologist...\n",
       "8    [enterpris, answer, distress, signal, unnam, p...\n",
       "9    [simon, gelder, psychiatr, staff, tantalus, pe...\n",
       "Name: synopsis, dtype: object"
      ]
     },
     "execution_count": 82,
     "metadata": {},
     "output_type": "execute_result"
    }
   ],
   "source": [
    "processed_docs[:10]"
   ]
  },
  {
   "cell_type": "markdown",
   "metadata": {},
   "source": [
    "### Bag of words on the dataset"
   ]
  },
  {
   "cell_type": "code",
   "execution_count": 83,
   "metadata": {},
   "outputs": [],
   "source": [
    "dictionary = gensim.corpora.Dictionary(processed_docs)"
   ]
  },
  {
   "cell_type": "code",
   "execution_count": 84,
   "metadata": {},
   "outputs": [
    {
     "name": "stdout",
     "output_type": "stream",
     "text": [
      "442 amok\n",
      "2017 jail\n",
      "1134 sound\n",
      "608 sever\n",
      "810 actor\n",
      "787 meaningless\n",
      "2183 tend\n",
      "2158 sole\n",
      "2061 util\n",
      "738 larg\n",
      "407 humor\n"
     ]
    }
   ],
   "source": [
    "count = 0\n",
    "for k, v in dictionary.iteritems():\n",
    "    print(k, v)\n",
    "    count += 1\n",
    "    if count > 10:\n",
    "        break"
   ]
  },
  {
   "cell_type": "code",
   "execution_count": 85,
   "metadata": {},
   "outputs": [],
   "source": [
    "dictionary.filter_extremes(no_below=15, no_above=0.5, keep_n=100000)"
   ]
  },
  {
   "cell_type": "code",
   "execution_count": 86,
   "metadata": {},
   "outputs": [],
   "source": [
    "bow_corpus = [dictionary.doc2bow(doc) for doc in processed_docs]"
   ]
  },
  {
   "cell_type": "code",
   "execution_count": 87,
   "metadata": {},
   "outputs": [
    {
     "name": "stdout",
     "output_type": "stream",
     "text": [
      "Word 2 (\"command\") appears 1 time.\n",
      "Word 7 (\"kill\") appears 1 time.\n",
      "Word 12 (\"parti\") appears 1 time.\n",
      "Word 25 (\"begin\") appears 1 time.\n",
      "Word 27 (\"bodi\") appears 1 time.\n",
      "Word 31 (\"find\") appears 1 time.\n",
      "Word 41 (\"like\") appears 2 time.\n",
      "Word 44 (\"tri\") appears 1 time.\n",
      "Word 45 (\"vulcan\") appears 1 time.\n",
      "Word 49 (\"life\") appears 1 time.\n",
      "Word 52 (\"manag\") appears 1 time.\n",
      "Word 53 (\"stop\") appears 1 time.\n"
     ]
    }
   ],
   "source": [
    "bow_doc_4 = bow_corpus[4]\n",
    "for i in range(len(bow_doc_4)):\n",
    "    print(\"Word {} (\\\"{}\\\") appears {} time.\".format(bow_doc_4[i][0], \n",
    "                                                     dictionary[bow_doc_4[i][0]], \n",
    "                                                     bow_doc_4[i][1]))"
   ]
  },
  {
   "cell_type": "markdown",
   "metadata": {},
   "source": [
    "### TF-IDF"
   ]
  },
  {
   "cell_type": "code",
   "execution_count": 88,
   "metadata": {},
   "outputs": [],
   "source": [
    "from gensim import corpora, models\n",
    "tfidf = models.TfidfModel(bow_corpus)"
   ]
  },
  {
   "cell_type": "code",
   "execution_count": 89,
   "metadata": {},
   "outputs": [],
   "source": [
    "corpus_tfidf = tfidf[bow_corpus]"
   ]
  },
  {
   "cell_type": "code",
   "execution_count": 90,
   "metadata": {},
   "outputs": [
    {
     "name": "stdout",
     "output_type": "stream",
     "text": [
      "[(0, 0.13261549420372357),\n",
      " (1, 0.25609843272337907),\n",
      " (2, 0.15322925836603835),\n",
      " (3, 0.23763489685649733),\n",
      " (4, 0.13261549420372357),\n",
      " (5, 0.17195811942271177),\n",
      " (6, 0.569624676963601),\n",
      " (7, 0.07647215428295387),\n",
      " (8, 0.1698400168137915),\n",
      " (9, 0.1698400168137915),\n",
      " (10, 0.1653284426228654),\n",
      " (11, 0.24735461636845363),\n",
      " (12, 0.07120308462045012),\n",
      " (13, 0.3841476490850686),\n",
      " (14, 0.10075503480226164),\n",
      " (15, 0.1591008185361725),\n",
      " (16, 0.14240616924090024),\n",
      " (17, 0.08202617374558821),\n",
      " (18, 0.12367730818422681),\n",
      " (19, 0.1698400168137915),\n",
      " (20, 0.17579546783144476),\n",
      " (21, 0.07380383966190238),\n",
      " (22, 0.13261549420372357)]\n"
     ]
    }
   ],
   "source": [
    "from pprint import pprint\n",
    "\n",
    "for doc in corpus_tfidf:\n",
    "    pprint(doc)\n",
    "    break"
   ]
  },
  {
   "cell_type": "markdown",
   "metadata": {},
   "source": [
    "### Running LDA using Bag of Words"
   ]
  },
  {
   "cell_type": "code",
   "execution_count": 108,
   "metadata": {},
   "outputs": [],
   "source": [
    "lda_model = gensim.models.LdaMulticore(bow_corpus, num_topics=100, id2word=dictionary, passes=2, workers=2)"
   ]
  },
  {
   "cell_type": "code",
   "execution_count": 109,
   "metadata": {},
   "outputs": [
    {
     "name": "stdout",
     "output_type": "stream",
     "text": [
      "Topic: 0 \n",
      "Words: 0.149*\"return\" + 0.081*\"kill\" + 0.081*\"abl\" + 0.080*\"find\" + 0.079*\"parti\" + 0.079*\"transport\" + 0.044*\"life\" + 0.036*\"realiz\" + 0.034*\"take\" + 0.032*\"forc\"\n",
      "Topic: 1 \n",
      "Words: 0.149*\"life\" + 0.111*\"space\" + 0.076*\"earth\" + 0.039*\"arriv\" + 0.039*\"aboard\" + 0.039*\"attempt\" + 0.038*\"inhabit\" + 0.038*\"attack\" + 0.038*\"destroy\" + 0.038*\"convinc\"\n",
      "Topic: 2 \n",
      "Words: 0.015*\"like\" + 0.015*\"destroy\" + 0.015*\"attempt\" + 0.015*\"vulcan\" + 0.015*\"tri\" + 0.015*\"peopl\" + 0.015*\"make\" + 0.015*\"help\" + 0.015*\"come\" + 0.015*\"tell\"\n",
      "Topic: 3 \n",
      "Words: 0.085*\"space\" + 0.082*\"transport\" + 0.067*\"land\" + 0.065*\"parti\" + 0.055*\"aboard\" + 0.048*\"take\" + 0.047*\"time\" + 0.045*\"soon\" + 0.041*\"scotti\" + 0.040*\"leav\"\n",
      "Topic: 4 \n",
      "Words: 0.117*\"life\" + 0.096*\"creatur\" + 0.066*\"discov\" + 0.066*\"like\" + 0.066*\"human\" + 0.065*\"parti\" + 0.065*\"year\" + 0.033*\"remain\" + 0.033*\"destroy\" + 0.033*\"land\"\n",
      "Topic: 5 \n",
      "Words: 0.063*\"discov\" + 0.063*\"convinc\" + 0.061*\"arriv\" + 0.061*\"like\" + 0.042*\"realiz\" + 0.041*\"parti\" + 0.041*\"know\" + 0.041*\"land\" + 0.041*\"human\" + 0.021*\"take\"\n",
      "Topic: 6 \n",
      "Words: 0.137*\"arriv\" + 0.121*\"call\" + 0.094*\"transport\" + 0.071*\"attack\" + 0.063*\"live\" + 0.061*\"attempt\" + 0.052*\"leav\" + 0.047*\"find\" + 0.047*\"final\" + 0.047*\"order\"\n",
      "Topic: 7 \n",
      "Words: 0.015*\"like\" + 0.015*\"destroy\" + 0.015*\"attempt\" + 0.015*\"vulcan\" + 0.015*\"tri\" + 0.015*\"peopl\" + 0.015*\"make\" + 0.015*\"help\" + 0.015*\"come\" + 0.015*\"tell\"\n",
      "Topic: 8 \n",
      "Words: 0.062*\"begin\" + 0.058*\"offic\" + 0.058*\"time\" + 0.057*\"land\" + 0.052*\"command\" + 0.048*\"parti\" + 0.042*\"bodi\" + 0.037*\"tell\" + 0.033*\"take\" + 0.031*\"space\"\n",
      "Topic: 9 \n",
      "Words: 0.074*\"starship\" + 0.074*\"return\" + 0.074*\"send\" + 0.050*\"scotti\" + 0.050*\"refus\" + 0.050*\"tell\" + 0.050*\"aboard\" + 0.049*\"transport\" + 0.025*\"land\" + 0.025*\"convinc\"\n",
      "Topic: 10 \n",
      "Words: 0.215*\"bodi\" + 0.083*\"take\" + 0.050*\"destroy\" + 0.044*\"dead\" + 0.043*\"order\" + 0.038*\"control\" + 0.037*\"return\" + 0.032*\"realiz\" + 0.029*\"explain\" + 0.029*\"transport\"\n",
      "Topic: 11 \n",
      "Words: 0.190*\"command\" + 0.080*\"aboard\" + 0.062*\"order\" + 0.060*\"board\" + 0.060*\"return\" + 0.044*\"scotti\" + 0.041*\"take\" + 0.040*\"bodi\" + 0.040*\"starship\" + 0.040*\"vulcan\"\n",
      "Topic: 12 \n",
      "Words: 0.158*\"feder\" + 0.099*\"leav\" + 0.067*\"aboard\" + 0.066*\"power\" + 0.065*\"year\" + 0.065*\"know\" + 0.064*\"final\" + 0.034*\"like\" + 0.034*\"realiz\" + 0.034*\"attempt\"\n",
      "Topic: 13 \n",
      "Words: 0.015*\"like\" + 0.015*\"destroy\" + 0.015*\"attempt\" + 0.015*\"vulcan\" + 0.015*\"tri\" + 0.015*\"peopl\" + 0.015*\"make\" + 0.015*\"help\" + 0.015*\"come\" + 0.015*\"tell\"\n",
      "Topic: 14 \n",
      "Words: 0.015*\"like\" + 0.015*\"destroy\" + 0.015*\"attempt\" + 0.015*\"vulcan\" + 0.015*\"tri\" + 0.015*\"peopl\" + 0.015*\"make\" + 0.015*\"help\" + 0.015*\"come\" + 0.015*\"tell\"\n",
      "Topic: 15 \n",
      "Words: 0.015*\"like\" + 0.015*\"destroy\" + 0.015*\"attempt\" + 0.015*\"vulcan\" + 0.015*\"tri\" + 0.015*\"peopl\" + 0.015*\"make\" + 0.015*\"help\" + 0.015*\"come\" + 0.015*\"tell\"\n",
      "Topic: 16 \n",
      "Words: 0.101*\"parti\" + 0.080*\"land\" + 0.053*\"feder\" + 0.052*\"begin\" + 0.042*\"discov\" + 0.042*\"attempt\" + 0.041*\"starship\" + 0.039*\"send\" + 0.038*\"help\" + 0.028*\"tri\"\n",
      "Topic: 17 \n",
      "Words: 0.015*\"like\" + 0.015*\"destroy\" + 0.015*\"attempt\" + 0.015*\"vulcan\" + 0.015*\"tri\" + 0.015*\"peopl\" + 0.015*\"make\" + 0.015*\"help\" + 0.015*\"come\" + 0.015*\"tell\"\n",
      "Topic: 18 \n",
      "Words: 0.066*\"destroy\" + 0.063*\"earth\" + 0.063*\"tell\" + 0.053*\"parti\" + 0.050*\"land\" + 0.047*\"take\" + 0.034*\"scotti\" + 0.032*\"surfac\" + 0.031*\"space\" + 0.031*\"escap\"\n",
      "Topic: 19 \n",
      "Words: 0.015*\"like\" + 0.015*\"destroy\" + 0.015*\"attempt\" + 0.015*\"vulcan\" + 0.015*\"tri\" + 0.015*\"peopl\" + 0.015*\"make\" + 0.015*\"help\" + 0.015*\"come\" + 0.015*\"tell\"\n",
      "Topic: 20 \n",
      "Words: 0.115*\"return\" + 0.112*\"know\" + 0.059*\"discov\" + 0.058*\"learn\" + 0.057*\"attempt\" + 0.057*\"destroy\" + 0.056*\"call\" + 0.056*\"come\" + 0.056*\"abl\" + 0.056*\"orbit\"\n",
      "Topic: 21 \n",
      "Words: 0.136*\"appear\" + 0.086*\"life\" + 0.074*\"leav\" + 0.067*\"realiz\" + 0.061*\"parti\" + 0.045*\"tri\" + 0.045*\"land\" + 0.041*\"come\" + 0.039*\"attack\" + 0.037*\"kill\"\n",
      "Topic: 22 \n",
      "Words: 0.015*\"like\" + 0.015*\"destroy\" + 0.015*\"attempt\" + 0.015*\"vulcan\" + 0.015*\"tri\" + 0.015*\"peopl\" + 0.015*\"make\" + 0.015*\"help\" + 0.015*\"come\" + 0.015*\"tell\"\n",
      "Topic: 23 \n",
      "Words: 0.015*\"like\" + 0.015*\"destroy\" + 0.015*\"attempt\" + 0.015*\"vulcan\" + 0.015*\"tri\" + 0.015*\"peopl\" + 0.015*\"make\" + 0.015*\"help\" + 0.015*\"come\" + 0.015*\"tell\"\n",
      "Topic: 24 \n",
      "Words: 0.080*\"return\" + 0.066*\"help\" + 0.066*\"peopl\" + 0.064*\"surfac\" + 0.054*\"inhabit\" + 0.051*\"earth\" + 0.049*\"soon\" + 0.048*\"find\" + 0.037*\"bodi\" + 0.034*\"control\"\n",
      "Topic: 25 \n",
      "Words: 0.093*\"take\" + 0.091*\"bodi\" + 0.075*\"starship\" + 0.061*\"return\" + 0.056*\"control\" + 0.054*\"tri\" + 0.040*\"surfac\" + 0.039*\"aboard\" + 0.038*\"attempt\" + 0.037*\"leav\"\n",
      "Topic: 26 \n",
      "Words: 0.067*\"arriv\" + 0.053*\"convinc\" + 0.050*\"like\" + 0.050*\"land\" + 0.045*\"discov\" + 0.040*\"human\" + 0.034*\"parti\" + 0.032*\"know\" + 0.032*\"realiz\" + 0.025*\"transport\"\n",
      "Topic: 27 \n",
      "Words: 0.015*\"like\" + 0.015*\"destroy\" + 0.015*\"attempt\" + 0.015*\"vulcan\" + 0.015*\"tri\" + 0.015*\"peopl\" + 0.015*\"make\" + 0.015*\"help\" + 0.015*\"come\" + 0.015*\"tell\"\n",
      "Topic: 28 \n",
      "Words: 0.015*\"like\" + 0.015*\"destroy\" + 0.015*\"attempt\" + 0.015*\"vulcan\" + 0.015*\"tri\" + 0.015*\"peopl\" + 0.015*\"make\" + 0.015*\"help\" + 0.015*\"come\" + 0.015*\"tell\"\n",
      "Topic: 29 \n",
      "Words: 0.092*\"aboard\" + 0.083*\"space\" + 0.077*\"order\" + 0.054*\"explain\" + 0.048*\"time\" + 0.039*\"attack\" + 0.036*\"board\" + 0.034*\"go\" + 0.034*\"take\" + 0.033*\"realiz\"\n",
      "Topic: 30 \n",
      "Words: 0.071*\"vulcan\" + 0.060*\"attack\" + 0.047*\"creatur\" + 0.039*\"starship\" + 0.037*\"kill\" + 0.035*\"arriv\" + 0.034*\"land\" + 0.033*\"destroy\" + 0.030*\"realiz\" + 0.030*\"parti\"\n",
      "Topic: 31 \n",
      "Words: 0.015*\"like\" + 0.015*\"destroy\" + 0.015*\"attempt\" + 0.015*\"vulcan\" + 0.015*\"tri\" + 0.015*\"peopl\" + 0.015*\"make\" + 0.015*\"help\" + 0.015*\"come\" + 0.015*\"tell\"\n",
      "Topic: 32 \n",
      "Words: 0.308*\"creatur\" + 0.110*\"kill\" + 0.056*\"like\" + 0.054*\"parti\" + 0.047*\"year\" + 0.032*\"vulcan\" + 0.032*\"destroy\" + 0.031*\"human\" + 0.030*\"land\" + 0.029*\"surfac\"\n",
      "Topic: 33 \n",
      "Words: 0.065*\"vulcan\" + 0.065*\"go\" + 0.062*\"control\" + 0.041*\"surfac\" + 0.039*\"live\" + 0.035*\"explain\" + 0.033*\"final\" + 0.031*\"bodi\" + 0.031*\"tell\" + 0.030*\"find\"\n",
      "Topic: 34 \n",
      "Words: 0.015*\"like\" + 0.015*\"destroy\" + 0.015*\"attempt\" + 0.015*\"vulcan\" + 0.015*\"tri\" + 0.015*\"peopl\" + 0.015*\"make\" + 0.015*\"help\" + 0.015*\"come\" + 0.015*\"tell\"\n",
      "Topic: 35 \n",
      "Words: 0.084*\"discov\" + 0.071*\"leav\" + 0.070*\"parti\" + 0.064*\"control\" + 0.064*\"take\" + 0.053*\"inhabit\" + 0.048*\"land\" + 0.047*\"like\" + 0.043*\"realiz\" + 0.043*\"starship\"\n",
      "Topic: 36 \n",
      "Words: 0.157*\"parti\" + 0.116*\"land\" + 0.112*\"power\" + 0.098*\"come\" + 0.083*\"tell\" + 0.051*\"surfac\" + 0.048*\"earth\" + 0.047*\"fall\" + 0.041*\"destroy\" + 0.038*\"space\"\n",
      "Topic: 37 \n",
      "Words: 0.015*\"like\" + 0.015*\"destroy\" + 0.015*\"attempt\" + 0.015*\"vulcan\" + 0.015*\"tri\" + 0.015*\"peopl\" + 0.015*\"make\" + 0.015*\"help\" + 0.015*\"come\" + 0.015*\"tell\"\n",
      "Topic: 38 \n",
      "Words: 0.073*\"kill\" + 0.073*\"board\" + 0.073*\"destroy\" + 0.073*\"starship\" + 0.073*\"send\" + 0.037*\"transport\" + 0.037*\"surfac\" + 0.037*\"aboard\" + 0.037*\"dead\" + 0.037*\"take\"\n",
      "Topic: 39 \n",
      "Words: 0.108*\"human\" + 0.084*\"discov\" + 0.082*\"power\" + 0.056*\"surfac\" + 0.055*\"appear\" + 0.055*\"starship\" + 0.055*\"offic\" + 0.054*\"land\" + 0.054*\"leav\" + 0.028*\"realiz\"\n",
      "Topic: 40 \n",
      "Words: 0.105*\"peopl\" + 0.076*\"tell\" + 0.050*\"attack\" + 0.045*\"help\" + 0.045*\"return\" + 0.045*\"know\" + 0.045*\"order\" + 0.045*\"year\" + 0.045*\"creatur\" + 0.032*\"kill\"\n",
      "Topic: 41 \n",
      "Words: 0.124*\"time\" + 0.082*\"command\" + 0.062*\"destroy\" + 0.062*\"space\" + 0.062*\"manag\" + 0.041*\"vulcan\" + 0.041*\"take\" + 0.041*\"feder\" + 0.041*\"tell\" + 0.021*\"abl\"\n",
      "Topic: 42 \n",
      "Words: 0.072*\"like\" + 0.051*\"arriv\" + 0.048*\"discov\" + 0.043*\"convinc\" + 0.041*\"human\" + 0.040*\"know\" + 0.038*\"parti\" + 0.034*\"realiz\" + 0.031*\"land\" + 0.025*\"make\"\n",
      "Topic: 43 \n",
      "Words: 0.084*\"tell\" + 0.064*\"kill\" + 0.055*\"order\" + 0.047*\"take\" + 0.046*\"peopl\" + 0.045*\"control\" + 0.042*\"arriv\" + 0.041*\"learn\" + 0.036*\"stop\" + 0.036*\"time\"\n",
      "Topic: 44 \n",
      "Words: 0.106*\"human\" + 0.077*\"power\" + 0.065*\"discov\" + 0.056*\"leav\" + 0.055*\"land\" + 0.052*\"offic\" + 0.050*\"starship\" + 0.050*\"appear\" + 0.045*\"surfac\" + 0.032*\"live\"\n",
      "Topic: 45 \n",
      "Words: 0.235*\"creatur\" + 0.115*\"kill\" + 0.071*\"bodi\" + 0.049*\"begin\" + 0.047*\"know\" + 0.047*\"year\" + 0.047*\"final\" + 0.047*\"board\" + 0.024*\"leav\" + 0.024*\"find\"\n",
      "Topic: 46 \n",
      "Words: 0.081*\"tell\" + 0.064*\"order\" + 0.052*\"offic\" + 0.052*\"take\" + 0.042*\"peopl\" + 0.034*\"explain\" + 0.032*\"learn\" + 0.030*\"arriv\" + 0.026*\"escap\" + 0.022*\"send\"\n",
      "Topic: 47 \n",
      "Words: 0.091*\"abl\" + 0.090*\"live\" + 0.090*\"forc\" + 0.046*\"life\" + 0.046*\"human\" + 0.045*\"like\" + 0.045*\"offic\" + 0.045*\"discov\" + 0.045*\"command\" + 0.045*\"board\"\n",
      "Topic: 48 \n",
      "Words: 0.173*\"feder\" + 0.173*\"attack\" + 0.087*\"abl\" + 0.087*\"power\" + 0.087*\"surfac\" + 0.087*\"vulcan\" + 0.087*\"creatur\" + 0.087*\"forc\" + 0.087*\"orbit\" + 0.001*\"attempt\"\n",
      "Topic: 49 \n",
      "Words: 0.161*\"destroy\" + 0.161*\"space\" + 0.108*\"call\" + 0.108*\"human\" + 0.054*\"find\" + 0.054*\"creatur\" + 0.054*\"death\" + 0.054*\"like\" + 0.054*\"kill\" + 0.054*\"transport\"\n",
      "Topic: 50 \n",
      "Words: 0.074*\"human\" + 0.073*\"aboard\" + 0.061*\"order\" + 0.060*\"space\" + 0.038*\"abl\" + 0.037*\"scotti\" + 0.036*\"time\" + 0.036*\"explain\" + 0.025*\"starship\" + 0.025*\"make\"\n",
      "Topic: 51 \n",
      "Words: 0.092*\"starship\" + 0.091*\"offic\" + 0.085*\"return\" + 0.081*\"inhabit\" + 0.065*\"aboard\" + 0.065*\"appear\" + 0.060*\"space\" + 0.033*\"surfac\" + 0.032*\"refus\" + 0.032*\"remain\"\n",
      "Topic: 52 \n",
      "Words: 0.098*\"earth\" + 0.090*\"tell\" + 0.050*\"vulcan\" + 0.045*\"take\" + 0.045*\"explain\" + 0.045*\"dead\" + 0.045*\"come\" + 0.045*\"parti\" + 0.045*\"power\" + 0.045*\"leav\"\n",
      "Topic: 53 \n",
      "Words: 0.081*\"control\" + 0.071*\"final\" + 0.067*\"parti\" + 0.064*\"realiz\" + 0.056*\"board\" + 0.056*\"forc\" + 0.056*\"begin\" + 0.056*\"creatur\" + 0.056*\"human\" + 0.056*\"take\"\n",
      "Topic: 54 \n",
      "Words: 0.082*\"parti\" + 0.080*\"starship\" + 0.049*\"discov\" + 0.049*\"realiz\" + 0.049*\"earth\" + 0.049*\"like\" + 0.048*\"escap\" + 0.033*\"land\" + 0.033*\"tri\" + 0.033*\"inhabit\"\n",
      "Topic: 55 \n",
      "Words: 0.015*\"like\" + 0.015*\"destroy\" + 0.015*\"attempt\" + 0.015*\"vulcan\" + 0.015*\"tri\" + 0.015*\"peopl\" + 0.015*\"make\" + 0.015*\"help\" + 0.015*\"come\" + 0.015*\"tell\"\n",
      "Topic: 56 \n",
      "Words: 0.015*\"like\" + 0.015*\"destroy\" + 0.015*\"attempt\" + 0.015*\"vulcan\" + 0.015*\"tri\" + 0.015*\"peopl\" + 0.015*\"make\" + 0.015*\"help\" + 0.015*\"come\" + 0.015*\"tell\"\n",
      "Topic: 57 \n",
      "Words: 0.151*\"appear\" + 0.106*\"kill\" + 0.063*\"parti\" + 0.055*\"realiz\" + 0.049*\"discov\" + 0.048*\"dead\" + 0.040*\"time\" + 0.039*\"surfac\" + 0.038*\"return\" + 0.036*\"offic\"\n",
      "Topic: 58 \n",
      "Words: 0.205*\"control\" + 0.069*\"forc\" + 0.069*\"abl\" + 0.069*\"tell\" + 0.069*\"starship\" + 0.069*\"kill\" + 0.069*\"final\" + 0.069*\"find\" + 0.069*\"aboard\" + 0.069*\"surfac\"\n",
      "Topic: 59 \n",
      "Words: 0.015*\"like\" + 0.015*\"destroy\" + 0.015*\"attempt\" + 0.015*\"vulcan\" + 0.015*\"tri\" + 0.015*\"peopl\" + 0.015*\"make\" + 0.015*\"help\" + 0.015*\"come\" + 0.015*\"tell\"\n",
      "Topic: 60 \n",
      "Words: 0.015*\"like\" + 0.015*\"destroy\" + 0.015*\"attempt\" + 0.015*\"vulcan\" + 0.015*\"tri\" + 0.015*\"peopl\" + 0.015*\"make\" + 0.015*\"help\" + 0.015*\"come\" + 0.015*\"tell\"\n",
      "Topic: 61 \n",
      "Words: 0.015*\"like\" + 0.015*\"destroy\" + 0.015*\"attempt\" + 0.015*\"vulcan\" + 0.015*\"tri\" + 0.015*\"peopl\" + 0.015*\"make\" + 0.015*\"help\" + 0.015*\"come\" + 0.015*\"tell\"\n",
      "Topic: 62 \n",
      "Words: 0.015*\"like\" + 0.015*\"destroy\" + 0.015*\"attempt\" + 0.015*\"vulcan\" + 0.015*\"tri\" + 0.015*\"peopl\" + 0.015*\"make\" + 0.015*\"help\" + 0.015*\"come\" + 0.015*\"tell\"\n",
      "Topic: 63 \n",
      "Words: 0.082*\"remain\" + 0.082*\"vulcan\" + 0.082*\"manag\" + 0.082*\"dead\" + 0.082*\"year\" + 0.041*\"discov\" + 0.041*\"aboard\" + 0.041*\"leav\" + 0.041*\"power\" + 0.041*\"kill\"\n",
      "Topic: 64 \n",
      "Words: 0.152*\"vulcan\" + 0.076*\"attack\" + 0.076*\"board\" + 0.051*\"feder\" + 0.051*\"return\" + 0.051*\"aboard\" + 0.025*\"appear\" + 0.025*\"make\" + 0.025*\"starship\" + 0.025*\"human\"\n",
      "Topic: 65 \n",
      "Words: 0.141*\"scotti\" + 0.070*\"kill\" + 0.070*\"bodi\" + 0.045*\"time\" + 0.036*\"leav\" + 0.036*\"know\" + 0.034*\"return\" + 0.034*\"fall\" + 0.032*\"begin\" + 0.032*\"discov\"\n",
      "Topic: 66 \n",
      "Words: 0.156*\"vulcan\" + 0.075*\"return\" + 0.074*\"discov\" + 0.060*\"time\" + 0.055*\"escap\" + 0.055*\"death\" + 0.045*\"dead\" + 0.045*\"explain\" + 0.045*\"fall\" + 0.045*\"control\"\n",
      "Topic: 67 \n",
      "Words: 0.015*\"like\" + 0.015*\"destroy\" + 0.015*\"attempt\" + 0.015*\"vulcan\" + 0.015*\"tri\" + 0.015*\"peopl\" + 0.015*\"make\" + 0.015*\"help\" + 0.015*\"come\" + 0.015*\"tell\"\n",
      "Topic: 68 \n",
      "Words: 0.015*\"like\" + 0.015*\"destroy\" + 0.015*\"attempt\" + 0.015*\"vulcan\" + 0.015*\"tri\" + 0.015*\"peopl\" + 0.015*\"make\" + 0.015*\"help\" + 0.015*\"come\" + 0.015*\"tell\"\n",
      "Topic: 69 \n",
      "Words: 0.015*\"like\" + 0.015*\"destroy\" + 0.015*\"attempt\" + 0.015*\"vulcan\" + 0.015*\"tri\" + 0.015*\"peopl\" + 0.015*\"make\" + 0.015*\"help\" + 0.015*\"come\" + 0.015*\"tell\"\n",
      "Topic: 70 \n",
      "Words: 0.093*\"land\" + 0.089*\"parti\" + 0.066*\"power\" + 0.065*\"creatur\" + 0.058*\"human\" + 0.048*\"destroy\" + 0.044*\"scotti\" + 0.044*\"return\" + 0.044*\"take\" + 0.034*\"escap\"\n",
      "Topic: 71 \n",
      "Words: 0.015*\"like\" + 0.015*\"destroy\" + 0.015*\"attempt\" + 0.015*\"vulcan\" + 0.015*\"tri\" + 0.015*\"peopl\" + 0.015*\"make\" + 0.015*\"help\" + 0.015*\"come\" + 0.015*\"tell\"\n",
      "Topic: 72 \n",
      "Words: 0.015*\"like\" + 0.015*\"destroy\" + 0.015*\"attempt\" + 0.015*\"vulcan\" + 0.015*\"tri\" + 0.015*\"peopl\" + 0.015*\"make\" + 0.015*\"help\" + 0.015*\"come\" + 0.015*\"tell\"\n",
      "Topic: 73 \n",
      "Words: 0.071*\"manag\" + 0.060*\"order\" + 0.049*\"explain\" + 0.045*\"surfac\" + 0.042*\"leav\" + 0.042*\"like\" + 0.041*\"kill\" + 0.040*\"orbit\" + 0.040*\"power\" + 0.040*\"space\"\n",
      "Topic: 74 \n",
      "Words: 0.015*\"like\" + 0.015*\"destroy\" + 0.015*\"attempt\" + 0.015*\"vulcan\" + 0.015*\"tri\" + 0.015*\"peopl\" + 0.015*\"make\" + 0.015*\"help\" + 0.015*\"come\" + 0.015*\"tell\"\n",
      "Topic: 75 \n",
      "Words: 0.015*\"like\" + 0.015*\"destroy\" + 0.015*\"attempt\" + 0.015*\"vulcan\" + 0.015*\"tri\" + 0.015*\"peopl\" + 0.015*\"make\" + 0.015*\"help\" + 0.015*\"come\" + 0.015*\"tell\"\n",
      "Topic: 76 \n",
      "Words: 0.163*\"appear\" + 0.083*\"parti\" + 0.082*\"realiz\" + 0.081*\"leav\" + 0.079*\"life\" + 0.042*\"earth\" + 0.042*\"like\" + 0.041*\"send\" + 0.041*\"help\" + 0.041*\"make\"\n",
      "Topic: 77 \n",
      "Words: 0.146*\"starship\" + 0.146*\"attack\" + 0.097*\"make\" + 0.097*\"abl\" + 0.049*\"destroy\" + 0.049*\"realiz\" + 0.049*\"feder\" + 0.049*\"human\" + 0.049*\"aboard\" + 0.049*\"remain\"\n",
      "Topic: 78 \n",
      "Words: 0.159*\"time\" + 0.118*\"return\" + 0.118*\"earth\" + 0.092*\"starship\" + 0.065*\"transport\" + 0.065*\"manag\" + 0.032*\"order\" + 0.032*\"help\" + 0.032*\"destroy\" + 0.031*\"escap\"\n",
      "Topic: 79 \n",
      "Words: 0.159*\"power\" + 0.089*\"offic\" + 0.077*\"refus\" + 0.063*\"convinc\" + 0.061*\"tell\" + 0.046*\"forc\" + 0.038*\"control\" + 0.036*\"appear\" + 0.036*\"land\" + 0.033*\"fall\"\n",
      "Topic: 80 \n",
      "Words: 0.147*\"like\" + 0.074*\"parti\" + 0.074*\"command\" + 0.074*\"tri\" + 0.074*\"vulcan\" + 0.074*\"kill\" + 0.074*\"begin\" + 0.074*\"life\" + 0.074*\"manag\" + 0.074*\"stop\"\n",
      "Topic: 81 \n",
      "Words: 0.015*\"like\" + 0.015*\"destroy\" + 0.015*\"attempt\" + 0.015*\"vulcan\" + 0.015*\"tri\" + 0.015*\"peopl\" + 0.015*\"make\" + 0.015*\"help\" + 0.015*\"come\" + 0.015*\"tell\"\n",
      "Topic: 82 \n",
      "Words: 0.150*\"starship\" + 0.113*\"destroy\" + 0.075*\"space\" + 0.075*\"like\" + 0.038*\"aboard\" + 0.038*\"take\" + 0.038*\"know\" + 0.038*\"earth\" + 0.038*\"order\" + 0.038*\"come\"\n",
      "Topic: 83 \n",
      "Words: 0.069*\"send\" + 0.060*\"return\" + 0.059*\"starship\" + 0.049*\"transport\" + 0.041*\"aboard\" + 0.040*\"tell\" + 0.039*\"scotti\" + 0.038*\"refus\" + 0.033*\"kill\" + 0.031*\"go\"\n",
      "Topic: 84 \n",
      "Words: 0.207*\"creatur\" + 0.122*\"kill\" + 0.063*\"bodi\" + 0.047*\"board\" + 0.044*\"final\" + 0.044*\"year\" + 0.043*\"know\" + 0.033*\"begin\" + 0.028*\"dead\" + 0.025*\"land\"\n",
      "Topic: 85 \n",
      "Words: 0.015*\"like\" + 0.015*\"destroy\" + 0.015*\"attempt\" + 0.015*\"vulcan\" + 0.015*\"tri\" + 0.015*\"peopl\" + 0.015*\"make\" + 0.015*\"help\" + 0.015*\"come\" + 0.015*\"tell\"\n",
      "Topic: 86 \n",
      "Words: 0.137*\"bodi\" + 0.072*\"year\" + 0.054*\"help\" + 0.049*\"control\" + 0.046*\"parti\" + 0.045*\"destroy\" + 0.042*\"peopl\" + 0.038*\"feder\" + 0.033*\"dead\" + 0.033*\"take\"\n",
      "Topic: 87 \n",
      "Words: 0.015*\"like\" + 0.015*\"destroy\" + 0.015*\"attempt\" + 0.015*\"vulcan\" + 0.015*\"tri\" + 0.015*\"peopl\" + 0.015*\"make\" + 0.015*\"help\" + 0.015*\"come\" + 0.015*\"tell\"\n",
      "Topic: 88 \n",
      "Words: 0.117*\"help\" + 0.117*\"abl\" + 0.117*\"realiz\" + 0.117*\"come\" + 0.117*\"take\" + 0.117*\"live\" + 0.117*\"discov\" + 0.117*\"stop\" + 0.001*\"attempt\" + 0.001*\"forc\"\n",
      "Topic: 89 \n",
      "Words: 0.075*\"offic\" + 0.072*\"take\" + 0.070*\"surfac\" + 0.065*\"starship\" + 0.065*\"return\" + 0.056*\"tell\" + 0.043*\"attempt\" + 0.027*\"peopl\" + 0.026*\"explain\" + 0.026*\"orbit\"\n",
      "Topic: 90 \n",
      "Words: 0.197*\"power\" + 0.141*\"kill\" + 0.084*\"forc\" + 0.056*\"take\" + 0.056*\"human\" + 0.056*\"destroy\" + 0.028*\"find\" + 0.028*\"help\" + 0.028*\"realiz\" + 0.028*\"attempt\"\n",
      "Topic: 91 \n",
      "Words: 0.015*\"like\" + 0.015*\"destroy\" + 0.015*\"attempt\" + 0.015*\"vulcan\" + 0.015*\"tri\" + 0.015*\"peopl\" + 0.015*\"make\" + 0.015*\"help\" + 0.015*\"come\" + 0.015*\"tell\"\n",
      "Topic: 92 \n",
      "Words: 0.015*\"like\" + 0.015*\"destroy\" + 0.015*\"attempt\" + 0.015*\"vulcan\" + 0.015*\"tri\" + 0.015*\"peopl\" + 0.015*\"make\" + 0.015*\"help\" + 0.015*\"come\" + 0.015*\"tell\"\n",
      "Topic: 93 \n",
      "Words: 0.015*\"like\" + 0.015*\"destroy\" + 0.015*\"attempt\" + 0.015*\"vulcan\" + 0.015*\"tri\" + 0.015*\"peopl\" + 0.015*\"make\" + 0.015*\"help\" + 0.015*\"come\" + 0.015*\"tell\"\n",
      "Topic: 94 \n",
      "Words: 0.158*\"power\" + 0.055*\"appear\" + 0.054*\"control\" + 0.045*\"come\" + 0.043*\"vulcan\" + 0.043*\"leav\" + 0.043*\"tri\" + 0.043*\"aboard\" + 0.042*\"remain\" + 0.041*\"peopl\"\n",
      "Topic: 95 \n",
      "Words: 0.015*\"like\" + 0.015*\"destroy\" + 0.015*\"attempt\" + 0.015*\"vulcan\" + 0.015*\"tri\" + 0.015*\"peopl\" + 0.015*\"make\" + 0.015*\"help\" + 0.015*\"come\" + 0.015*\"tell\"\n",
      "Topic: 96 \n",
      "Words: 0.015*\"like\" + 0.015*\"destroy\" + 0.015*\"attempt\" + 0.015*\"vulcan\" + 0.015*\"tri\" + 0.015*\"peopl\" + 0.015*\"make\" + 0.015*\"help\" + 0.015*\"come\" + 0.015*\"tell\"\n",
      "Topic: 97 \n",
      "Words: 0.092*\"take\" + 0.090*\"aboard\" + 0.070*\"abl\" + 0.057*\"death\" + 0.046*\"starship\" + 0.046*\"feder\" + 0.045*\"surfac\" + 0.045*\"dead\" + 0.044*\"refus\" + 0.044*\"parti\"\n",
      "Topic: 98 \n",
      "Words: 0.015*\"like\" + 0.015*\"destroy\" + 0.015*\"attempt\" + 0.015*\"vulcan\" + 0.015*\"tri\" + 0.015*\"peopl\" + 0.015*\"make\" + 0.015*\"help\" + 0.015*\"come\" + 0.015*\"tell\"\n",
      "Topic: 99 \n",
      "Words: 0.122*\"time\" + 0.069*\"help\" + 0.065*\"surfac\" + 0.063*\"return\" + 0.061*\"vulcan\" + 0.058*\"go\" + 0.052*\"inhabit\" + 0.037*\"aboard\" + 0.035*\"attempt\" + 0.034*\"find\"\n"
     ]
    }
   ],
   "source": [
    "for idx, topic in lda_model.print_topics(-1):\n",
    "    print('Topic: {} \\nWords: {}'.format(idx, topic))"
   ]
  },
  {
   "cell_type": "markdown",
   "metadata": {},
   "source": [
    "Cool! Can you distinguish different topics using the words in each topic and their corresponding weights?"
   ]
  },
  {
   "cell_type": "markdown",
   "metadata": {},
   "source": [
    "### Running LDA using TF-IDF"
   ]
  },
  {
   "cell_type": "code",
   "execution_count": 110,
   "metadata": {},
   "outputs": [],
   "source": [
    "lda_model_tfidf = gensim.models.LdaMulticore(corpus_tfidf, num_topics=100, id2word=dictionary, passes=2, workers=4)"
   ]
  },
  {
   "cell_type": "code",
   "execution_count": 111,
   "metadata": {},
   "outputs": [
    {
     "name": "stdout",
     "output_type": "stream",
     "text": [
      "Topic: 0 Word: 0.015*\"like\" + 0.015*\"destroy\" + 0.015*\"attempt\" + 0.015*\"vulcan\" + 0.015*\"tri\" + 0.015*\"peopl\" + 0.015*\"make\" + 0.015*\"help\" + 0.015*\"come\" + 0.015*\"tell\"\n",
      "Topic: 1 Word: 0.015*\"like\" + 0.015*\"destroy\" + 0.015*\"attempt\" + 0.015*\"vulcan\" + 0.015*\"tri\" + 0.015*\"peopl\" + 0.015*\"make\" + 0.015*\"help\" + 0.015*\"come\" + 0.015*\"tell\"\n",
      "Topic: 2 Word: 0.015*\"like\" + 0.015*\"destroy\" + 0.015*\"attempt\" + 0.015*\"vulcan\" + 0.015*\"tri\" + 0.015*\"peopl\" + 0.015*\"make\" + 0.015*\"help\" + 0.015*\"come\" + 0.015*\"tell\"\n",
      "Topic: 3 Word: 0.015*\"like\" + 0.015*\"destroy\" + 0.015*\"attempt\" + 0.015*\"vulcan\" + 0.015*\"tri\" + 0.015*\"peopl\" + 0.015*\"make\" + 0.015*\"help\" + 0.015*\"come\" + 0.015*\"tell\"\n",
      "Topic: 4 Word: 0.015*\"like\" + 0.015*\"destroy\" + 0.015*\"attempt\" + 0.015*\"vulcan\" + 0.015*\"tri\" + 0.015*\"peopl\" + 0.015*\"make\" + 0.015*\"help\" + 0.015*\"come\" + 0.015*\"tell\"\n",
      "Topic: 5 Word: 0.015*\"like\" + 0.015*\"destroy\" + 0.015*\"attempt\" + 0.015*\"vulcan\" + 0.015*\"tri\" + 0.015*\"peopl\" + 0.015*\"make\" + 0.015*\"help\" + 0.015*\"come\" + 0.015*\"tell\"\n",
      "Topic: 6 Word: 0.015*\"go\" + 0.015*\"explain\" + 0.015*\"death\" + 0.015*\"final\" + 0.015*\"begin\" + 0.015*\"abl\" + 0.015*\"offic\" + 0.015*\"manag\" + 0.015*\"take\" + 0.015*\"command\"\n",
      "Topic: 7 Word: 0.015*\"like\" + 0.015*\"destroy\" + 0.015*\"attempt\" + 0.015*\"vulcan\" + 0.015*\"tri\" + 0.015*\"peopl\" + 0.015*\"make\" + 0.015*\"help\" + 0.015*\"come\" + 0.015*\"tell\"\n",
      "Topic: 8 Word: 0.015*\"like\" + 0.015*\"destroy\" + 0.015*\"attempt\" + 0.015*\"vulcan\" + 0.015*\"tri\" + 0.015*\"peopl\" + 0.015*\"make\" + 0.015*\"help\" + 0.015*\"come\" + 0.015*\"tell\"\n",
      "Topic: 9 Word: 0.171*\"creatur\" + 0.127*\"vulcan\" + 0.084*\"year\" + 0.083*\"tell\" + 0.074*\"attack\" + 0.067*\"peopl\" + 0.063*\"forc\" + 0.061*\"know\" + 0.058*\"order\" + 0.040*\"make\"\n",
      "Topic: 10 Word: 0.015*\"like\" + 0.015*\"destroy\" + 0.015*\"attempt\" + 0.015*\"vulcan\" + 0.015*\"tri\" + 0.015*\"peopl\" + 0.015*\"make\" + 0.015*\"help\" + 0.015*\"come\" + 0.015*\"tell\"\n",
      "Topic: 11 Word: 0.015*\"like\" + 0.015*\"destroy\" + 0.015*\"attempt\" + 0.015*\"vulcan\" + 0.015*\"tri\" + 0.015*\"peopl\" + 0.015*\"make\" + 0.015*\"help\" + 0.015*\"come\" + 0.015*\"tell\"\n",
      "Topic: 12 Word: 0.015*\"like\" + 0.015*\"destroy\" + 0.015*\"attempt\" + 0.015*\"vulcan\" + 0.015*\"tri\" + 0.015*\"peopl\" + 0.015*\"make\" + 0.015*\"help\" + 0.015*\"come\" + 0.015*\"tell\"\n",
      "Topic: 13 Word: 0.015*\"like\" + 0.015*\"destroy\" + 0.015*\"attempt\" + 0.015*\"vulcan\" + 0.015*\"tri\" + 0.015*\"peopl\" + 0.015*\"make\" + 0.015*\"help\" + 0.015*\"come\" + 0.015*\"tell\"\n",
      "Topic: 14 Word: 0.015*\"like\" + 0.015*\"destroy\" + 0.015*\"attempt\" + 0.015*\"vulcan\" + 0.015*\"tri\" + 0.015*\"peopl\" + 0.015*\"make\" + 0.015*\"help\" + 0.015*\"come\" + 0.015*\"tell\"\n",
      "Topic: 15 Word: 0.015*\"like\" + 0.015*\"destroy\" + 0.015*\"attempt\" + 0.015*\"vulcan\" + 0.015*\"tri\" + 0.015*\"peopl\" + 0.015*\"make\" + 0.015*\"help\" + 0.015*\"come\" + 0.015*\"tell\"\n",
      "Topic: 16 Word: 0.015*\"like\" + 0.015*\"destroy\" + 0.015*\"attempt\" + 0.015*\"vulcan\" + 0.015*\"tri\" + 0.015*\"peopl\" + 0.015*\"make\" + 0.015*\"help\" + 0.015*\"come\" + 0.015*\"tell\"\n",
      "Topic: 17 Word: 0.015*\"like\" + 0.015*\"destroy\" + 0.015*\"attempt\" + 0.015*\"vulcan\" + 0.015*\"tri\" + 0.015*\"peopl\" + 0.015*\"make\" + 0.015*\"help\" + 0.015*\"come\" + 0.015*\"tell\"\n",
      "Topic: 18 Word: 0.015*\"like\" + 0.015*\"destroy\" + 0.015*\"attempt\" + 0.015*\"vulcan\" + 0.015*\"tri\" + 0.015*\"peopl\" + 0.015*\"make\" + 0.015*\"help\" + 0.015*\"come\" + 0.015*\"tell\"\n",
      "Topic: 19 Word: 0.015*\"like\" + 0.015*\"destroy\" + 0.015*\"attempt\" + 0.015*\"vulcan\" + 0.015*\"tri\" + 0.015*\"peopl\" + 0.015*\"make\" + 0.015*\"help\" + 0.015*\"come\" + 0.015*\"tell\"\n",
      "Topic: 20 Word: 0.015*\"like\" + 0.015*\"destroy\" + 0.015*\"attempt\" + 0.015*\"vulcan\" + 0.015*\"tri\" + 0.015*\"peopl\" + 0.015*\"make\" + 0.015*\"help\" + 0.015*\"come\" + 0.015*\"tell\"\n",
      "Topic: 21 Word: 0.015*\"like\" + 0.015*\"destroy\" + 0.015*\"attempt\" + 0.015*\"vulcan\" + 0.015*\"tri\" + 0.015*\"peopl\" + 0.015*\"make\" + 0.015*\"help\" + 0.015*\"come\" + 0.015*\"tell\"\n",
      "Topic: 22 Word: 0.015*\"like\" + 0.015*\"destroy\" + 0.015*\"attempt\" + 0.015*\"vulcan\" + 0.015*\"tri\" + 0.015*\"peopl\" + 0.015*\"make\" + 0.015*\"help\" + 0.015*\"come\" + 0.015*\"tell\"\n",
      "Topic: 23 Word: 0.015*\"like\" + 0.015*\"destroy\" + 0.015*\"attempt\" + 0.015*\"vulcan\" + 0.015*\"tri\" + 0.015*\"peopl\" + 0.015*\"make\" + 0.015*\"help\" + 0.015*\"come\" + 0.015*\"tell\"\n",
      "Topic: 24 Word: 0.015*\"space\" + 0.015*\"order\" + 0.015*\"aboard\" + 0.015*\"go\" + 0.015*\"time\" + 0.015*\"scotti\" + 0.015*\"explain\" + 0.015*\"attack\" + 0.015*\"board\" + 0.015*\"make\"\n",
      "Topic: 25 Word: 0.015*\"like\" + 0.015*\"destroy\" + 0.015*\"attempt\" + 0.015*\"vulcan\" + 0.015*\"tri\" + 0.015*\"peopl\" + 0.015*\"make\" + 0.015*\"help\" + 0.015*\"come\" + 0.015*\"tell\"\n",
      "Topic: 26 Word: 0.142*\"power\" + 0.113*\"space\" + 0.104*\"appear\" + 0.090*\"manag\" + 0.085*\"earth\" + 0.076*\"learn\" + 0.059*\"destroy\" + 0.058*\"orbit\" + 0.056*\"leav\" + 0.054*\"explain\"\n",
      "Topic: 27 Word: 0.015*\"like\" + 0.015*\"destroy\" + 0.015*\"attempt\" + 0.015*\"vulcan\" + 0.015*\"tri\" + 0.015*\"peopl\" + 0.015*\"make\" + 0.015*\"help\" + 0.015*\"come\" + 0.015*\"tell\"\n",
      "Topic: 28 Word: 0.015*\"like\" + 0.015*\"destroy\" + 0.015*\"attempt\" + 0.015*\"vulcan\" + 0.015*\"tri\" + 0.015*\"peopl\" + 0.015*\"make\" + 0.015*\"help\" + 0.015*\"come\" + 0.015*\"tell\"\n",
      "Topic: 29 Word: 0.015*\"like\" + 0.015*\"destroy\" + 0.015*\"attempt\" + 0.015*\"vulcan\" + 0.015*\"tri\" + 0.015*\"peopl\" + 0.015*\"make\" + 0.015*\"help\" + 0.015*\"come\" + 0.015*\"tell\"\n",
      "Topic: 30 Word: 0.015*\"like\" + 0.015*\"destroy\" + 0.015*\"attempt\" + 0.015*\"vulcan\" + 0.015*\"tri\" + 0.015*\"peopl\" + 0.015*\"make\" + 0.015*\"help\" + 0.015*\"come\" + 0.015*\"tell\"\n",
      "Topic: 31 Word: 0.015*\"like\" + 0.015*\"destroy\" + 0.015*\"attempt\" + 0.015*\"vulcan\" + 0.015*\"tri\" + 0.015*\"peopl\" + 0.015*\"make\" + 0.015*\"help\" + 0.015*\"come\" + 0.015*\"tell\"\n",
      "Topic: 32 Word: 0.088*\"parti\" + 0.085*\"kill\" + 0.080*\"life\" + 0.073*\"control\" + 0.066*\"dead\" + 0.064*\"feder\" + 0.063*\"land\" + 0.059*\"escap\" + 0.053*\"peopl\" + 0.049*\"find\"\n",
      "Topic: 33 Word: 0.015*\"like\" + 0.015*\"destroy\" + 0.015*\"attempt\" + 0.015*\"vulcan\" + 0.015*\"tri\" + 0.015*\"peopl\" + 0.015*\"make\" + 0.015*\"help\" + 0.015*\"come\" + 0.015*\"tell\"\n",
      "Topic: 34 Word: 0.015*\"like\" + 0.015*\"destroy\" + 0.015*\"attempt\" + 0.015*\"vulcan\" + 0.015*\"tri\" + 0.015*\"peopl\" + 0.015*\"make\" + 0.015*\"help\" + 0.015*\"come\" + 0.015*\"tell\"\n",
      "Topic: 35 Word: 0.015*\"like\" + 0.015*\"destroy\" + 0.015*\"attempt\" + 0.015*\"vulcan\" + 0.015*\"tri\" + 0.015*\"peopl\" + 0.015*\"make\" + 0.015*\"help\" + 0.015*\"come\" + 0.015*\"tell\"\n",
      "Topic: 36 Word: 0.015*\"like\" + 0.015*\"destroy\" + 0.015*\"attempt\" + 0.015*\"vulcan\" + 0.015*\"tri\" + 0.015*\"peopl\" + 0.015*\"make\" + 0.015*\"help\" + 0.015*\"come\" + 0.015*\"tell\"\n",
      "Topic: 37 Word: 0.015*\"like\" + 0.015*\"destroy\" + 0.015*\"attempt\" + 0.015*\"vulcan\" + 0.015*\"tri\" + 0.015*\"peopl\" + 0.015*\"make\" + 0.015*\"help\" + 0.015*\"come\" + 0.015*\"tell\"\n",
      "Topic: 38 Word: 0.015*\"like\" + 0.015*\"destroy\" + 0.015*\"attempt\" + 0.015*\"vulcan\" + 0.015*\"tri\" + 0.015*\"peopl\" + 0.015*\"make\" + 0.015*\"help\" + 0.015*\"come\" + 0.015*\"tell\"\n",
      "Topic: 39 Word: 0.015*\"like\" + 0.015*\"destroy\" + 0.015*\"attempt\" + 0.015*\"vulcan\" + 0.015*\"tri\" + 0.015*\"peopl\" + 0.015*\"make\" + 0.015*\"help\" + 0.015*\"come\" + 0.015*\"tell\"\n",
      "Topic: 40 Word: 0.015*\"like\" + 0.015*\"destroy\" + 0.015*\"attempt\" + 0.015*\"vulcan\" + 0.015*\"tri\" + 0.015*\"peopl\" + 0.015*\"make\" + 0.015*\"help\" + 0.015*\"come\" + 0.015*\"tell\"\n",
      "Topic: 41 Word: 0.015*\"like\" + 0.015*\"destroy\" + 0.015*\"attempt\" + 0.015*\"vulcan\" + 0.015*\"tri\" + 0.015*\"peopl\" + 0.015*\"make\" + 0.015*\"help\" + 0.015*\"come\" + 0.015*\"tell\"\n",
      "Topic: 42 Word: 0.015*\"like\" + 0.015*\"destroy\" + 0.015*\"attempt\" + 0.015*\"vulcan\" + 0.015*\"tri\" + 0.015*\"peopl\" + 0.015*\"make\" + 0.015*\"help\" + 0.015*\"come\" + 0.015*\"tell\"\n",
      "Topic: 43 Word: 0.015*\"like\" + 0.015*\"destroy\" + 0.015*\"attempt\" + 0.015*\"vulcan\" + 0.015*\"tri\" + 0.015*\"peopl\" + 0.015*\"make\" + 0.015*\"help\" + 0.015*\"come\" + 0.015*\"tell\"\n",
      "Topic: 44 Word: 0.015*\"like\" + 0.015*\"destroy\" + 0.015*\"attempt\" + 0.015*\"vulcan\" + 0.015*\"tri\" + 0.015*\"peopl\" + 0.015*\"make\" + 0.015*\"help\" + 0.015*\"come\" + 0.015*\"tell\"\n",
      "Topic: 45 Word: 0.015*\"like\" + 0.015*\"destroy\" + 0.015*\"attempt\" + 0.015*\"vulcan\" + 0.015*\"tri\" + 0.015*\"peopl\" + 0.015*\"make\" + 0.015*\"help\" + 0.015*\"come\" + 0.015*\"tell\"\n",
      "Topic: 46 Word: 0.015*\"like\" + 0.015*\"destroy\" + 0.015*\"attempt\" + 0.015*\"vulcan\" + 0.015*\"tri\" + 0.015*\"peopl\" + 0.015*\"make\" + 0.015*\"help\" + 0.015*\"come\" + 0.015*\"tell\"\n",
      "Topic: 47 Word: 0.015*\"like\" + 0.015*\"destroy\" + 0.015*\"attempt\" + 0.015*\"vulcan\" + 0.015*\"tri\" + 0.015*\"peopl\" + 0.015*\"make\" + 0.015*\"help\" + 0.015*\"come\" + 0.015*\"tell\"\n",
      "Topic: 48 Word: 0.015*\"like\" + 0.015*\"destroy\" + 0.015*\"attempt\" + 0.015*\"vulcan\" + 0.015*\"tri\" + 0.015*\"peopl\" + 0.015*\"make\" + 0.015*\"help\" + 0.015*\"come\" + 0.015*\"tell\"\n",
      "Topic: 49 Word: 0.015*\"like\" + 0.015*\"destroy\" + 0.015*\"attempt\" + 0.015*\"vulcan\" + 0.015*\"tri\" + 0.015*\"peopl\" + 0.015*\"make\" + 0.015*\"help\" + 0.015*\"come\" + 0.015*\"tell\"\n",
      "Topic: 50 Word: 0.015*\"like\" + 0.015*\"destroy\" + 0.015*\"attempt\" + 0.015*\"vulcan\" + 0.015*\"tri\" + 0.015*\"peopl\" + 0.015*\"make\" + 0.015*\"help\" + 0.015*\"come\" + 0.015*\"tell\"\n",
      "Topic: 51 Word: 0.015*\"like\" + 0.015*\"destroy\" + 0.015*\"attempt\" + 0.015*\"vulcan\" + 0.015*\"tri\" + 0.015*\"peopl\" + 0.015*\"make\" + 0.015*\"help\" + 0.015*\"come\" + 0.015*\"tell\"\n",
      "Topic: 52 Word: 0.015*\"like\" + 0.015*\"destroy\" + 0.015*\"attempt\" + 0.015*\"vulcan\" + 0.015*\"tri\" + 0.015*\"peopl\" + 0.015*\"make\" + 0.015*\"help\" + 0.015*\"come\" + 0.015*\"tell\"\n",
      "Topic: 53 Word: 0.126*\"live\" + 0.121*\"call\" + 0.092*\"come\" + 0.085*\"stop\" + 0.071*\"arriv\" + 0.061*\"take\" + 0.057*\"earth\" + 0.050*\"make\" + 0.045*\"go\" + 0.043*\"fall\"\n",
      "Topic: 54 Word: 0.015*\"like\" + 0.015*\"destroy\" + 0.015*\"attempt\" + 0.015*\"vulcan\" + 0.015*\"tri\" + 0.015*\"peopl\" + 0.015*\"make\" + 0.015*\"help\" + 0.015*\"come\" + 0.015*\"tell\"\n",
      "Topic: 55 Word: 0.015*\"like\" + 0.015*\"destroy\" + 0.015*\"attempt\" + 0.015*\"vulcan\" + 0.015*\"tri\" + 0.015*\"peopl\" + 0.015*\"make\" + 0.015*\"help\" + 0.015*\"come\" + 0.015*\"tell\"\n",
      "Topic: 56 Word: 0.015*\"like\" + 0.015*\"destroy\" + 0.015*\"attempt\" + 0.015*\"vulcan\" + 0.015*\"tri\" + 0.015*\"peopl\" + 0.015*\"make\" + 0.015*\"help\" + 0.015*\"come\" + 0.015*\"tell\"\n",
      "Topic: 57 Word: 0.015*\"like\" + 0.015*\"destroy\" + 0.015*\"attempt\" + 0.015*\"vulcan\" + 0.015*\"tri\" + 0.015*\"peopl\" + 0.015*\"make\" + 0.015*\"help\" + 0.015*\"come\" + 0.015*\"tell\"\n",
      "Topic: 58 Word: 0.015*\"like\" + 0.015*\"destroy\" + 0.015*\"attempt\" + 0.015*\"vulcan\" + 0.015*\"tri\" + 0.015*\"peopl\" + 0.015*\"make\" + 0.015*\"help\" + 0.015*\"come\" + 0.015*\"tell\"\n",
      "Topic: 59 Word: 0.015*\"like\" + 0.015*\"destroy\" + 0.015*\"attempt\" + 0.015*\"vulcan\" + 0.015*\"tri\" + 0.015*\"peopl\" + 0.015*\"make\" + 0.015*\"help\" + 0.015*\"come\" + 0.015*\"tell\"\n",
      "Topic: 60 Word: 0.015*\"like\" + 0.015*\"destroy\" + 0.015*\"attempt\" + 0.015*\"vulcan\" + 0.015*\"tri\" + 0.015*\"peopl\" + 0.015*\"make\" + 0.015*\"help\" + 0.015*\"come\" + 0.015*\"tell\"\n",
      "Topic: 61 Word: 0.015*\"like\" + 0.015*\"destroy\" + 0.015*\"attempt\" + 0.015*\"vulcan\" + 0.015*\"tri\" + 0.015*\"peopl\" + 0.015*\"make\" + 0.015*\"help\" + 0.015*\"come\" + 0.015*\"tell\"\n",
      "Topic: 62 Word: 0.015*\"like\" + 0.015*\"destroy\" + 0.015*\"attempt\" + 0.015*\"vulcan\" + 0.015*\"tri\" + 0.015*\"peopl\" + 0.015*\"make\" + 0.015*\"help\" + 0.015*\"come\" + 0.015*\"tell\"\n",
      "Topic: 63 Word: 0.015*\"like\" + 0.015*\"destroy\" + 0.015*\"attempt\" + 0.015*\"vulcan\" + 0.015*\"tri\" + 0.015*\"peopl\" + 0.015*\"make\" + 0.015*\"help\" + 0.015*\"come\" + 0.015*\"tell\"\n",
      "Topic: 64 Word: 0.015*\"like\" + 0.015*\"destroy\" + 0.015*\"attempt\" + 0.015*\"vulcan\" + 0.015*\"tri\" + 0.015*\"peopl\" + 0.015*\"make\" + 0.015*\"help\" + 0.015*\"come\" + 0.015*\"tell\"\n",
      "Topic: 65 Word: 0.015*\"like\" + 0.015*\"destroy\" + 0.015*\"attempt\" + 0.015*\"vulcan\" + 0.015*\"tri\" + 0.015*\"peopl\" + 0.015*\"make\" + 0.015*\"help\" + 0.015*\"come\" + 0.015*\"tell\"\n",
      "Topic: 66 Word: 0.015*\"like\" + 0.015*\"destroy\" + 0.015*\"attempt\" + 0.015*\"vulcan\" + 0.015*\"tri\" + 0.015*\"peopl\" + 0.015*\"make\" + 0.015*\"help\" + 0.015*\"come\" + 0.015*\"tell\"\n",
      "Topic: 67 Word: 0.015*\"like\" + 0.015*\"destroy\" + 0.015*\"attempt\" + 0.015*\"vulcan\" + 0.015*\"tri\" + 0.015*\"peopl\" + 0.015*\"make\" + 0.015*\"help\" + 0.015*\"come\" + 0.015*\"tell\"\n",
      "Topic: 68 Word: 0.015*\"like\" + 0.015*\"destroy\" + 0.015*\"attempt\" + 0.015*\"vulcan\" + 0.015*\"tri\" + 0.015*\"peopl\" + 0.015*\"make\" + 0.015*\"help\" + 0.015*\"come\" + 0.015*\"tell\"\n",
      "Topic: 69 Word: 0.015*\"like\" + 0.015*\"destroy\" + 0.015*\"attempt\" + 0.015*\"vulcan\" + 0.015*\"tri\" + 0.015*\"peopl\" + 0.015*\"make\" + 0.015*\"help\" + 0.015*\"come\" + 0.015*\"tell\"\n",
      "Topic: 70 Word: 0.015*\"like\" + 0.015*\"destroy\" + 0.015*\"attempt\" + 0.015*\"vulcan\" + 0.015*\"tri\" + 0.015*\"peopl\" + 0.015*\"make\" + 0.015*\"help\" + 0.015*\"come\" + 0.015*\"tell\"\n",
      "Topic: 71 Word: 0.015*\"like\" + 0.015*\"destroy\" + 0.015*\"attempt\" + 0.015*\"vulcan\" + 0.015*\"tri\" + 0.015*\"peopl\" + 0.015*\"make\" + 0.015*\"help\" + 0.015*\"come\" + 0.015*\"tell\"\n",
      "Topic: 72 Word: 0.015*\"like\" + 0.015*\"destroy\" + 0.015*\"attempt\" + 0.015*\"vulcan\" + 0.015*\"tri\" + 0.015*\"peopl\" + 0.015*\"make\" + 0.015*\"help\" + 0.015*\"come\" + 0.015*\"tell\"\n",
      "Topic: 73 Word: 0.015*\"like\" + 0.015*\"destroy\" + 0.015*\"attempt\" + 0.015*\"vulcan\" + 0.015*\"tri\" + 0.015*\"peopl\" + 0.015*\"make\" + 0.015*\"help\" + 0.015*\"come\" + 0.015*\"tell\"\n",
      "Topic: 74 Word: 0.015*\"like\" + 0.015*\"destroy\" + 0.015*\"attempt\" + 0.015*\"vulcan\" + 0.015*\"tri\" + 0.015*\"peopl\" + 0.015*\"make\" + 0.015*\"help\" + 0.015*\"come\" + 0.015*\"tell\"\n",
      "Topic: 75 Word: 0.015*\"like\" + 0.015*\"destroy\" + 0.015*\"attempt\" + 0.015*\"vulcan\" + 0.015*\"tri\" + 0.015*\"peopl\" + 0.015*\"make\" + 0.015*\"help\" + 0.015*\"come\" + 0.015*\"tell\"\n",
      "Topic: 76 Word: 0.015*\"like\" + 0.015*\"destroy\" + 0.015*\"attempt\" + 0.015*\"vulcan\" + 0.015*\"tri\" + 0.015*\"peopl\" + 0.015*\"make\" + 0.015*\"help\" + 0.015*\"come\" + 0.015*\"tell\"\n",
      "Topic: 77 Word: 0.015*\"like\" + 0.015*\"destroy\" + 0.015*\"attempt\" + 0.015*\"vulcan\" + 0.015*\"tri\" + 0.015*\"peopl\" + 0.015*\"make\" + 0.015*\"help\" + 0.015*\"come\" + 0.015*\"tell\"\n",
      "Topic: 78 Word: 0.015*\"like\" + 0.015*\"destroy\" + 0.015*\"attempt\" + 0.015*\"vulcan\" + 0.015*\"tri\" + 0.015*\"peopl\" + 0.015*\"make\" + 0.015*\"help\" + 0.015*\"come\" + 0.015*\"tell\"\n",
      "Topic: 79 Word: 0.015*\"like\" + 0.015*\"destroy\" + 0.015*\"attempt\" + 0.015*\"vulcan\" + 0.015*\"tri\" + 0.015*\"peopl\" + 0.015*\"make\" + 0.015*\"help\" + 0.015*\"come\" + 0.015*\"tell\"\n",
      "Topic: 80 Word: 0.015*\"like\" + 0.015*\"destroy\" + 0.015*\"attempt\" + 0.015*\"vulcan\" + 0.015*\"tri\" + 0.015*\"peopl\" + 0.015*\"make\" + 0.015*\"help\" + 0.015*\"come\" + 0.015*\"tell\"\n",
      "Topic: 81 Word: 0.015*\"like\" + 0.015*\"destroy\" + 0.015*\"attempt\" + 0.015*\"vulcan\" + 0.015*\"tri\" + 0.015*\"peopl\" + 0.015*\"make\" + 0.015*\"help\" + 0.015*\"come\" + 0.015*\"tell\"\n",
      "Topic: 82 Word: 0.015*\"like\" + 0.015*\"destroy\" + 0.015*\"attempt\" + 0.015*\"vulcan\" + 0.015*\"tri\" + 0.015*\"peopl\" + 0.015*\"make\" + 0.015*\"help\" + 0.015*\"come\" + 0.015*\"tell\"\n",
      "Topic: 83 Word: 0.015*\"like\" + 0.015*\"destroy\" + 0.015*\"attempt\" + 0.015*\"vulcan\" + 0.015*\"tri\" + 0.015*\"peopl\" + 0.015*\"make\" + 0.015*\"help\" + 0.015*\"come\" + 0.015*\"tell\"\n",
      "Topic: 84 Word: 0.015*\"like\" + 0.015*\"destroy\" + 0.015*\"attempt\" + 0.015*\"vulcan\" + 0.015*\"tri\" + 0.015*\"peopl\" + 0.015*\"make\" + 0.015*\"help\" + 0.015*\"come\" + 0.015*\"tell\"\n",
      "Topic: 85 Word: 0.015*\"like\" + 0.015*\"destroy\" + 0.015*\"attempt\" + 0.015*\"vulcan\" + 0.015*\"tri\" + 0.015*\"peopl\" + 0.015*\"make\" + 0.015*\"help\" + 0.015*\"come\" + 0.015*\"tell\"\n",
      "Topic: 86 Word: 0.015*\"like\" + 0.015*\"destroy\" + 0.015*\"attempt\" + 0.015*\"vulcan\" + 0.015*\"tri\" + 0.015*\"peopl\" + 0.015*\"make\" + 0.015*\"help\" + 0.015*\"come\" + 0.015*\"tell\"\n",
      "Topic: 87 Word: 0.015*\"like\" + 0.015*\"destroy\" + 0.015*\"attempt\" + 0.015*\"vulcan\" + 0.015*\"tri\" + 0.015*\"peopl\" + 0.015*\"make\" + 0.015*\"help\" + 0.015*\"come\" + 0.015*\"tell\"\n",
      "Topic: 88 Word: 0.066*\"tell\" + 0.050*\"order\" + 0.043*\"peopl\" + 0.041*\"explain\" + 0.040*\"offic\" + 0.036*\"learn\" + 0.029*\"take\" + 0.029*\"arriv\" + 0.024*\"command\" + 0.023*\"attack\"\n",
      "Topic: 89 Word: 0.015*\"like\" + 0.015*\"destroy\" + 0.015*\"attempt\" + 0.015*\"vulcan\" + 0.015*\"tri\" + 0.015*\"peopl\" + 0.015*\"make\" + 0.015*\"help\" + 0.015*\"come\" + 0.015*\"tell\"\n",
      "Topic: 90 Word: 0.015*\"like\" + 0.015*\"destroy\" + 0.015*\"attempt\" + 0.015*\"vulcan\" + 0.015*\"tri\" + 0.015*\"peopl\" + 0.015*\"make\" + 0.015*\"help\" + 0.015*\"come\" + 0.015*\"tell\"\n",
      "Topic: 91 Word: 0.015*\"like\" + 0.015*\"destroy\" + 0.015*\"attempt\" + 0.015*\"vulcan\" + 0.015*\"tri\" + 0.015*\"peopl\" + 0.015*\"make\" + 0.015*\"help\" + 0.015*\"come\" + 0.015*\"tell\"\n",
      "Topic: 92 Word: 0.015*\"like\" + 0.015*\"destroy\" + 0.015*\"attempt\" + 0.015*\"vulcan\" + 0.015*\"tri\" + 0.015*\"peopl\" + 0.015*\"make\" + 0.015*\"help\" + 0.015*\"come\" + 0.015*\"tell\"\n",
      "Topic: 93 Word: 0.111*\"starship\" + 0.090*\"return\" + 0.077*\"scotti\" + 0.074*\"board\" + 0.073*\"transport\" + 0.071*\"aboard\" + 0.069*\"send\" + 0.065*\"attempt\" + 0.059*\"refus\" + 0.035*\"tell\"\n",
      "Topic: 94 Word: 0.015*\"like\" + 0.015*\"destroy\" + 0.015*\"attempt\" + 0.015*\"vulcan\" + 0.015*\"tri\" + 0.015*\"peopl\" + 0.015*\"make\" + 0.015*\"help\" + 0.015*\"come\" + 0.015*\"tell\"\n",
      "Topic: 95 Word: 0.015*\"like\" + 0.015*\"destroy\" + 0.015*\"attempt\" + 0.015*\"vulcan\" + 0.015*\"tri\" + 0.015*\"peopl\" + 0.015*\"make\" + 0.015*\"help\" + 0.015*\"come\" + 0.015*\"tell\"\n",
      "Topic: 96 Word: 0.170*\"bodi\" + 0.119*\"time\" + 0.112*\"offic\" + 0.108*\"command\" + 0.063*\"soon\" + 0.061*\"begin\" + 0.036*\"take\" + 0.035*\"remain\" + 0.028*\"orbit\" + 0.025*\"fall\"\n",
      "Topic: 97 Word: 0.150*\"human\" + 0.129*\"like\" + 0.109*\"final\" + 0.105*\"realiz\" + 0.095*\"discov\" + 0.059*\"know\" + 0.048*\"convinc\" + 0.043*\"arriv\" + 0.035*\"fall\" + 0.024*\"remain\"\n",
      "Topic: 98 Word: 0.015*\"like\" + 0.015*\"destroy\" + 0.015*\"attempt\" + 0.015*\"vulcan\" + 0.015*\"tri\" + 0.015*\"peopl\" + 0.015*\"make\" + 0.015*\"help\" + 0.015*\"come\" + 0.015*\"tell\"\n",
      "Topic: 99 Word: 0.066*\"tell\" + 0.044*\"peopl\" + 0.040*\"order\" + 0.040*\"learn\" + 0.040*\"offic\" + 0.032*\"explain\" + 0.031*\"arriv\" + 0.024*\"soon\" + 0.024*\"take\" + 0.024*\"make\"\n"
     ]
    }
   ],
   "source": [
    "for idx, topic in lda_model_tfidf.print_topics(-1):\n",
    "    print('Topic: {} Word: {}'.format(idx, topic))"
   ]
  },
  {
   "cell_type": "markdown",
   "metadata": {},
   "source": [
    "### Classification of the topics"
   ]
  },
  {
   "cell_type": "markdown",
   "metadata": {},
   "source": [
    "### Performance evaluation by classifying sample document using LDA Bag of Words model"
   ]
  },
  {
   "cell_type": "code",
   "execution_count": 112,
   "metadata": {},
   "outputs": [
    {
     "data": {
      "text/plain": [
       "['spock',\n",
       " 'tormolen',\n",
       " 'beam',\n",
       " 'planet',\n",
       " 'pick',\n",
       " 'research',\n",
       " 'parti',\n",
       " 'planet',\n",
       " 'disintegr',\n",
       " 'die',\n",
       " 'freez',\n",
       " 'life',\n",
       " 'support',\n",
       " 'turn',\n",
       " 'stranger',\n",
       " 'posit',\n",
       " 'research',\n",
       " 'bodi',\n",
       " 'mind',\n",
       " 'perish',\n",
       " 'die',\n",
       " 'suicid',\n",
       " 'unknow',\n",
       " 'tormolen',\n",
       " 'carri',\n",
       " 'later',\n",
       " 'term',\n",
       " 'virus',\n",
       " 'enterpris',\n",
       " 'spread',\n",
       " 'crew',\n",
       " 'alarm',\n",
       " 'rate',\n",
       " 'reach',\n",
       " 'soul',\n",
       " 'pull',\n",
       " 'deepest',\n",
       " 'desir',\n",
       " 'public',\n",
       " 'display',\n",
       " 'virus',\n",
       " 'water',\n",
       " 'bear',\n",
       " 'spread',\n",
       " 'perspir',\n",
       " 'touch',\n",
       " 'tri',\n",
       " 'stop',\n",
       " 'tormolen',\n",
       " 'kill',\n",
       " 'sulu',\n",
       " 'kevin',\n",
       " 'riley',\n",
       " 'infect',\n",
       " 'virus',\n",
       " 'crew',\n",
       " 'begin',\n",
       " 'display',\n",
       " 'action',\n",
       " 'humor',\n",
       " 'exagger',\n",
       " 'desir',\n",
       " 'like',\n",
       " 'sulu',\n",
       " 'threaten',\n",
       " 'bridg',\n",
       " 'fenc',\n",
       " 'foil',\n",
       " 'kirk',\n",
       " 'over',\n",
       " 'romant',\n",
       " 'crew',\n",
       " 'heart',\n",
       " 'wrench',\n",
       " 'like',\n",
       " 'christin',\n",
       " 'chapel',\n",
       " 'admit',\n",
       " 'love',\n",
       " 'spock',\n",
       " 'vulcan',\n",
       " 'weep',\n",
       " 'uncontrol',\n",
       " 'deadliest',\n",
       " 'result',\n",
       " 'riley',\n",
       " 'declar',\n",
       " 'captain',\n",
       " 'enterpris',\n",
       " 'lock',\n",
       " 'engin',\n",
       " 'unfortun',\n",
       " 'lock',\n",
       " 'command',\n",
       " 'ship',\n",
       " 'engin',\n",
       " 'riley',\n",
       " 'shut',\n",
       " 'enterpris',\n",
       " 'pull',\n",
       " 'errat',\n",
       " 'graviti',\n",
       " 'mccoy',\n",
       " 'manag',\n",
       " 'avoid',\n",
       " 'contract',\n",
       " 'virus',\n",
       " 'find',\n",
       " 'antidot',\n",
       " 'cure',\n",
       " 'crew']"
      ]
     },
     "execution_count": 112,
     "metadata": {},
     "output_type": "execute_result"
    }
   ],
   "source": [
    "processed_docs[4]"
   ]
  },
  {
   "cell_type": "code",
   "execution_count": 113,
   "metadata": {},
   "outputs": [
    {
     "name": "stdout",
     "output_type": "stream",
     "text": [
      "\n",
      "Score: 0.9292855858802795\t \n",
      "Topic: 0.147*\"like\" + 0.074*\"parti\" + 0.074*\"command\" + 0.074*\"tri\" + 0.074*\"vulcan\" + 0.074*\"kill\" + 0.074*\"begin\" + 0.074*\"life\" + 0.074*\"manag\" + 0.074*\"stop\"\n"
     ]
    }
   ],
   "source": [
    "for index, score in sorted(lda_model[bow_corpus[4]], key=lambda tup: -1*tup[1]):\n",
    "    print(\"\\nScore: {}\\t \\nTopic: {}\".format(score, lda_model.print_topic(index, 10)))"
   ]
  },
  {
   "cell_type": "markdown",
   "metadata": {},
   "source": [
    "Our test document has the highest probability to be part of the topic on the top."
   ]
  },
  {
   "cell_type": "markdown",
   "metadata": {},
   "source": [
    "### Performance evaluation by classifying sample document using LDA TF-IDF model"
   ]
  },
  {
   "cell_type": "code",
   "execution_count": 114,
   "metadata": {},
   "outputs": [
    {
     "name": "stdout",
     "output_type": "stream",
     "text": [
      "\n",
      "Score: 0.41271159052848816\t \n",
      "Topic: 0.088*\"parti\" + 0.085*\"kill\" + 0.080*\"life\" + 0.073*\"control\" + 0.066*\"dead\" + 0.064*\"feder\" + 0.063*\"land\" + 0.059*\"escap\" + 0.053*\"peopl\" + 0.049*\"find\"\n",
      "\n",
      "Score: 0.20200461149215698\t \n",
      "Topic: 0.170*\"bodi\" + 0.119*\"time\" + 0.112*\"offic\" + 0.108*\"command\" + 0.063*\"soon\" + 0.061*\"begin\" + 0.036*\"take\" + 0.035*\"remain\" + 0.028*\"orbit\" + 0.025*\"fall\"\n",
      "\n",
      "Score: 0.15605366230010986\t \n",
      "Topic: 0.150*\"human\" + 0.129*\"like\" + 0.109*\"final\" + 0.105*\"realiz\" + 0.095*\"discov\" + 0.059*\"know\" + 0.048*\"convinc\" + 0.043*\"arriv\" + 0.035*\"fall\" + 0.024*\"remain\"\n",
      "\n",
      "Score: 0.07846108824014664\t \n",
      "Topic: 0.142*\"power\" + 0.113*\"space\" + 0.104*\"appear\" + 0.090*\"manag\" + 0.085*\"earth\" + 0.076*\"learn\" + 0.059*\"destroy\" + 0.058*\"orbit\" + 0.056*\"leav\" + 0.054*\"explain\"\n",
      "\n",
      "Score: 0.07769134640693665\t \n",
      "Topic: 0.171*\"creatur\" + 0.127*\"vulcan\" + 0.084*\"year\" + 0.083*\"tell\" + 0.074*\"attack\" + 0.067*\"peopl\" + 0.063*\"forc\" + 0.061*\"know\" + 0.058*\"order\" + 0.040*\"make\"\n"
     ]
    }
   ],
   "source": [
    "for index, score in sorted(lda_model_tfidf[bow_corpus[4]], key=lambda tup: -1*tup[1]):\n",
    "    print(\"\\nScore: {}\\t \\nTopic: {}\".format(score, lda_model_tfidf.print_topic(index, 10)))"
   ]
  },
  {
   "cell_type": "markdown",
   "metadata": {},
   "source": [
    "Our test document has the highest probability to be part of the topic on the top."
   ]
  },
  {
   "cell_type": "markdown",
   "metadata": {},
   "source": [
    "### Testing model on unseen document"
   ]
  },
  {
   "cell_type": "code",
   "execution_count": 116,
   "metadata": {},
   "outputs": [
    {
     "data": {
      "text/plain": [
       "[\"When Wesley's experiment with a warp field goes awry, Dr.                     Crusher is unknowingly catapulted into a universe created by                     her own mind.                                         After escorting her friend Dr. Dalen Quaice aboard the U.S.S.                     Enterprise, Beverly is deeply moved by his sadness over                     losing his wife and other people he has loved. She seeks out                     her son Wesley, and finds him in engineering, working with a                     warp bubble on a computer screen. While she watches, his                     experiment inadvertently causes a strange flash of light.                     Soon afterward, Dr. Crusher is unable to locate Dr. Quaice.                     The ship's computer reports that he has never been on board,                     and Picard and Worf inform her that they had no knowledge of                     his presence on the ship. Additionally, O'Brien does not                     recall transporting Quaice aboard, and Starfleet has no                     record of the doctor's existence.                                         Beverly's bewilderment turns to concern when members of the                     crew, including her entire medical staff, begin to                     disappear. Neither their relatives, other crew members, or                     the ship's computer remember their ever having existed.                     Picard, Riker, and the crew are supportive and helpful, but                     since none of them remember the missing people, or feel like                     anything is wrong, Beverly wonders if she is suffering from                     delusions. She heads to Troi's office for analysis, and is                     confronted by a strange, swirling vortex which knocks her to                     the ground.                                         The crew discounts the possibility that Wesley's experiment                     caused the vortex. Beverly then asks if all crew members are                     accounted for. Data replies that no crew members are                     missing, and tells her there are 114 people aboard the                     starship.                                         Beverly panics, knowing the U.S.S. Enterprise population                     should be well over 1000. She requests that Worf monitor all                     remaining personnel, and is met with silence. No one has                     ever heard of Worf. She rushes to Wesley to try to link her                     predicament to his experiment, but Wesley soon disappears                     too. Beverly returns to the Bridge to find everyone but                     Picard vanished. Then the captain disappears, and the vortex                     reappears on the Bridge. While she struggles with it, Wesley                     works on the computer, despondent that he has lost his                     mother. At that moment, an alien called the Traveler phases                     in.                                         The Traveler explains that Wesley somehow summoned him, and                     tells the boy that at the moment the light flashed during                     his experiment with warp fields, Beverly was caught in a                     warp bubble and created her own reality based on what she                     was thinking at that precise moment - the tragedy of losing                     close friends. He begins working with the boy to try to                     recreate the bubble and bring his mother back. Meanwhile,                     Beverly uses the computer to determine that she is trapped                     in the bubble, and that it, along with her self-created                     universe, is collapsing. While the crew tries to maneuver                     the ship back to the exact spot where Wesley's bubble was                     created, Beverly runs to engineering, where she first saw                     the flash of light, as the ship begins to collapse around                     her. She locates the vortex with only seconds to spare,                     leaps through it, and suddenly appears back in the                     engineering room, surrounded by the crew and her very                     relieved son.\"]"
      ]
     },
     "execution_count": 116,
     "metadata": {},
     "output_type": "execute_result"
    }
   ],
   "source": [
    "##### get random synopsis for testing\n",
    "GETDATA = \"\"\"select REPLACE(e.synopsis,'\\n','') as synopsis \n",
    "from episode e\n",
    "inner join tv_show t on e.show_id = t.show_id \n",
    "where synopsis is not null and t.show_id = 2\n",
    "order by rand() limit 1\"\"\"\n",
    "CURSOR.execute(GETDATA)\n",
    "rows=CURSOR.fetchall()\n",
    "test_synopsis=[]\n",
    "for row in rows:\n",
    "    test_synopsis.append(row[0])\n",
    "test_synopsis"
   ]
  },
  {
   "cell_type": "code",
   "execution_count": 118,
   "metadata": {},
   "outputs": [
    {
     "name": "stdout",
     "output_type": "stream",
     "text": [
      "Score: 0.37104618549346924\t Topic: 0.065*\"vulcan\" + 0.065*\"go\" + 0.062*\"control\" + 0.041*\"surfac\" + 0.039*\"live\" + 0.035*\"explain\" + 0.033*\"final\" + 0.031*\"bodi\" + 0.031*\"tell\" + 0.030*\"find\" + 0.029*\"parti\" + 0.029*\"peopl\"\n",
      "Score: 0.3435274064540863\t Topic: 0.074*\"starship\" + 0.074*\"return\" + 0.074*\"send\" + 0.050*\"scotti\" + 0.050*\"refus\" + 0.050*\"tell\" + 0.050*\"aboard\" + 0.049*\"transport\" + 0.025*\"land\" + 0.025*\"convinc\" + 0.025*\"begin\" + 0.025*\"order\"\n",
      "Score: 0.2519777715206146\t Topic: 0.080*\"return\" + 0.066*\"help\" + 0.066*\"peopl\" + 0.064*\"surfac\" + 0.054*\"inhabit\" + 0.051*\"earth\" + 0.049*\"soon\" + 0.048*\"find\" + 0.037*\"bodi\" + 0.034*\"control\" + 0.033*\"time\" + 0.033*\"transport\"\n"
     ]
    }
   ],
   "source": [
    "unseen_document = test_synopsis[0]\n",
    "bow_vector = dictionary.doc2bow(preprocess(unseen_document))\n",
    "\n",
    "for index, score in sorted(lda_model[bow_vector], key=lambda tup: -1*tup[1]):\n",
    "    print(\"Score: {}\\t Topic: {}\".format(score, lda_model.print_topic(index, 12)))"
   ]
  },
  {
   "cell_type": "code",
   "execution_count": null,
   "metadata": {},
   "outputs": [],
   "source": []
  }
 ],
 "metadata": {
  "kernelspec": {
   "display_name": "Python 3",
   "language": "python",
   "name": "python3"
  },
  "language_info": {
   "codemirror_mode": {
    "name": "ipython",
    "version": 3
   },
   "file_extension": ".py",
   "mimetype": "text/x-python",
   "name": "python",
   "nbconvert_exporter": "python",
   "pygments_lexer": "ipython3",
   "version": "3.7.3"
  }
 },
 "nbformat": 4,
 "nbformat_minor": 2
}
